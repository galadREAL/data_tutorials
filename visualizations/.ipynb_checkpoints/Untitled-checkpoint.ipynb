{
 "cells": [
  {
   "cell_type": "code",
   "execution_count": 19,
   "metadata": {},
   "outputs": [
    {
     "name": "stdout",
     "output_type": "stream",
     "text": [
      "This will expand the size of your Jupyter Notebook cells to fit the width of your screen.\n"
     ]
    },
    {
     "data": {
      "text/html": [
       "<style>.container { width:100% !important; }</style>"
      ],
      "text/plain": [
       "<IPython.core.display.HTML object>"
      ]
     },
     "metadata": {},
     "output_type": "display_data"
    },
    {
     "name": "stdout",
     "output_type": "stream",
     "text": [
      "\n",
      "\n",
      "\n",
      "You may be wondering what is going on above: The `import` operator allows us to bring \n",
      "in \"modules\" we've either written ourselves, or downloaded from the internet. The amount\n",
      "of robust, open source modules available at our disposal is arguably the best thing\n",
      "about Python.\n"
     ]
    }
   ],
   "source": [
    "print('''This will expand the size of your Jupyter Notebook cells to fit the width of your screen.''')\n",
    "\n",
    "from IPython.core.display import display, HTML\n",
    "display(HTML(\"<style>.container { width:100% !important; }</style>\"))\n",
    "\n",
    "print('''\\n\\n\\nYou may be wondering what is going on above: The `import` operator allows us to bring \n",
    "in \"modules\" we've either written ourselves, or downloaded from the internet. The amount\n",
    "of robust, open source modules available at our disposal is arguably the best thing\n",
    "about Python.''')"
   ]
  },
  {
   "cell_type": "code",
   "execution_count": 20,
   "metadata": {},
   "outputs": [
    {
     "name": "stdout",
     "output_type": "stream",
     "text": [
      "One of my favorites is called \"Pandas\", it allows us to table and perform mathematical\n",
      "functions upon data; Think of it as Microsoft Excel on steroids. If you haven't already, install\n",
      "Pandas with pip in your terminal using the command `pip install pandas`.\n",
      "\n",
      "\n",
      "\n",
      "What does the \"pd\" mean? When you import a module, you can alias it. You will often\n",
      "see Pandas aliased as \"pd\", and a few others further on in this tutorial.\n"
     ]
    }
   ],
   "source": [
    "print('''One of my favorites is called \"Pandas\", it allows us to table and perform mathematical\n",
    "functions upon data; Think of it as Microsoft Excel on steroids. If you haven't already, install\n",
    "Pandas with pip in your terminal using the command `pip install pandas`.''')\n",
    "\n",
    "import pandas as pd\n",
    "\n",
    "print('''\\n\\n\\nWhat does the \"pd\" mean? When you import a module, you can alias it. You will often\n",
    "see Pandas aliased as \"pd\", and a few others further on in this tutorial.''')"
   ]
  },
  {
   "cell_type": "code",
   "execution_count": 21,
   "metadata": {},
   "outputs": [
    {
     "name": "stdout",
     "output_type": "stream",
     "text": [
      "Pandas can read a .csv file into a table it calls a `DataFrame` with ease. Using our file\n",
      "\"data1.csv\", lets read it in to Pandas. For this example, the location I have stored the file is \n",
      "on my desktop. If you have saved it elsewhere, just alter the path.\n"
     ]
    }
   ],
   "source": [
    "print('''Pandas can read a .csv file into a table it calls a `DataFrame` with ease. Using our file\n",
    "\"data1.csv\", lets read it in to Pandas. For this example, the location I have stored the file is \n",
    "on my desktop. If you have saved it elsewhere, just alter the path.''')\n",
    "\n",
    "df = pd.read_csv(\"~/Desktop/data1.csv\")"
   ]
  },
  {
   "cell_type": "code",
   "execution_count": 22,
   "metadata": {},
   "outputs": [
    {
     "name": "stdout",
     "output_type": "stream",
     "text": [
      "Now we have it in a variable called `df`, but where is it?? Lets take a peek of the \n",
      "first 5 rows using using the `.head()` method.\n"
     ]
    },
    {
     "data": {
      "text/html": [
       "<div>\n",
       "<style scoped>\n",
       "    .dataframe tbody tr th:only-of-type {\n",
       "        vertical-align: middle;\n",
       "    }\n",
       "\n",
       "    .dataframe tbody tr th {\n",
       "        vertical-align: top;\n",
       "    }\n",
       "\n",
       "    .dataframe thead th {\n",
       "        text-align: right;\n",
       "    }\n",
       "</style>\n",
       "<table border=\"1\" class=\"dataframe\">\n",
       "  <thead>\n",
       "    <tr style=\"text-align: right;\">\n",
       "      <th></th>\n",
       "      <th>#</th>\n",
       "      <th>Activity</th>\n",
       "      <th>Opened</th>\n",
       "      <th>RID</th>\n",
       "      <th>State</th>\n",
       "      <th>Type</th>\n",
       "      <th>Sc</th>\n",
       "      <th>SIC</th>\n",
       "      <th>NAICS</th>\n",
       "      <th>Vio</th>\n",
       "      <th>Establishment Name</th>\n",
       "      <th>Case Link</th>\n",
       "    </tr>\n",
       "  </thead>\n",
       "  <tbody>\n",
       "    <tr>\n",
       "      <th>0</th>\n",
       "      <td>98</td>\n",
       "      <td>1407128.015</td>\n",
       "      <td>6/11/19</td>\n",
       "      <td>454712</td>\n",
       "      <td>TN</td>\n",
       "      <td>Complaint</td>\n",
       "      <td>Partial</td>\n",
       "      <td>[None]</td>\n",
       "      <td>332722</td>\n",
       "      <td>16</td>\n",
       "      <td>Structural Bolt And Manufacturing, Inc.</td>\n",
       "      <td>https://www.osha.gov/pls/imis/establishment.in...</td>\n",
       "    </tr>\n",
       "    <tr>\n",
       "      <th>1</th>\n",
       "      <td>8</td>\n",
       "      <td>1411555.015</td>\n",
       "      <td>6/27/19</td>\n",
       "      <td>1055350</td>\n",
       "      <td>WA</td>\n",
       "      <td>Planned</td>\n",
       "      <td>Complete</td>\n",
       "      <td>[None]</td>\n",
       "      <td>111331</td>\n",
       "      <td>16</td>\n",
       "      <td>Wa317955080 - Zuniga Daniel</td>\n",
       "      <td>https://www.osha.gov/pls/imis/establishment.in...</td>\n",
       "    </tr>\n",
       "    <tr>\n",
       "      <th>2</th>\n",
       "      <td>18</td>\n",
       "      <td>1407608.015</td>\n",
       "      <td>6/12/19</td>\n",
       "      <td>253420</td>\n",
       "      <td>NJ</td>\n",
       "      <td>Planned</td>\n",
       "      <td>Complete</td>\n",
       "      <td>[None]</td>\n",
       "      <td>561210</td>\n",
       "      <td>16</td>\n",
       "      <td>Borough Of Spotswood Department Of Public Works</td>\n",
       "      <td>https://www.osha.gov/pls/imis/establishment.in...</td>\n",
       "    </tr>\n",
       "    <tr>\n",
       "      <th>3</th>\n",
       "      <td>13</td>\n",
       "      <td>1408515.015</td>\n",
       "      <td>6/13/19</td>\n",
       "      <td>352440</td>\n",
       "      <td>MD</td>\n",
       "      <td>Unprog Rel</td>\n",
       "      <td>Complete</td>\n",
       "      <td>[None]</td>\n",
       "      <td>562112</td>\n",
       "      <td>16</td>\n",
       "      <td>Maryland Enviornmental Service</td>\n",
       "      <td>https://www.osha.gov/pls/imis/establishment.in...</td>\n",
       "    </tr>\n",
       "    <tr>\n",
       "      <th>4</th>\n",
       "      <td>72</td>\n",
       "      <td>1408515.015</td>\n",
       "      <td>6/13/19</td>\n",
       "      <td>352440</td>\n",
       "      <td>MD</td>\n",
       "      <td>Unprog Rel</td>\n",
       "      <td>Complete</td>\n",
       "      <td>[None]</td>\n",
       "      <td>562112</td>\n",
       "      <td>16</td>\n",
       "      <td>Maryland Enviornmental Service</td>\n",
       "      <td>https://www.osha.gov/pls/imis/establishment.in...</td>\n",
       "    </tr>\n",
       "  </tbody>\n",
       "</table>\n",
       "</div>"
      ],
      "text/plain": [
       "    #     Activity   Opened      RID State        Type        Sc     SIC  \\\n",
       "0  98  1407128.015  6/11/19   454712    TN   Complaint   Partial  [None]   \n",
       "1   8  1411555.015  6/27/19  1055350    WA     Planned  Complete  [None]   \n",
       "2  18  1407608.015  6/12/19   253420    NJ     Planned  Complete  [None]   \n",
       "3  13  1408515.015  6/13/19   352440    MD  Unprog Rel  Complete  [None]   \n",
       "4  72  1408515.015  6/13/19   352440    MD  Unprog Rel  Complete  [None]   \n",
       "\n",
       "    NAICS  Vio                               Establishment Name  \\\n",
       "0  332722   16          Structural Bolt And Manufacturing, Inc.   \n",
       "1  111331   16                      Wa317955080 - Zuniga Daniel   \n",
       "2  561210   16  Borough Of Spotswood Department Of Public Works   \n",
       "3  562112   16                   Maryland Enviornmental Service   \n",
       "4  562112   16                   Maryland Enviornmental Service   \n",
       "\n",
       "                                           Case Link  \n",
       "0  https://www.osha.gov/pls/imis/establishment.in...  \n",
       "1  https://www.osha.gov/pls/imis/establishment.in...  \n",
       "2  https://www.osha.gov/pls/imis/establishment.in...  \n",
       "3  https://www.osha.gov/pls/imis/establishment.in...  \n",
       "4  https://www.osha.gov/pls/imis/establishment.in...  "
      ]
     },
     "execution_count": 22,
     "metadata": {},
     "output_type": "execute_result"
    }
   ],
   "source": [
    "print('''Now we have it in a variable called `df`, but where is it?? Lets take a peek of the \n",
    "first 5 rows using using the `.head()` method.''')\n",
    "\n",
    "df.head()"
   ]
  },
  {
   "cell_type": "code",
   "execution_count": 23,
   "metadata": {},
   "outputs": [
    {
     "name": "stdout",
     "output_type": "stream",
     "text": [
      "What about the last 2 rows?? We'll use the `.tail()` method.\n"
     ]
    },
    {
     "data": {
      "text/html": [
       "<div>\n",
       "<style scoped>\n",
       "    .dataframe tbody tr th:only-of-type {\n",
       "        vertical-align: middle;\n",
       "    }\n",
       "\n",
       "    .dataframe tbody tr th {\n",
       "        vertical-align: top;\n",
       "    }\n",
       "\n",
       "    .dataframe thead th {\n",
       "        text-align: right;\n",
       "    }\n",
       "</style>\n",
       "<table border=\"1\" class=\"dataframe\">\n",
       "  <thead>\n",
       "    <tr style=\"text-align: right;\">\n",
       "      <th></th>\n",
       "      <th>#</th>\n",
       "      <th>Activity</th>\n",
       "      <th>Opened</th>\n",
       "      <th>RID</th>\n",
       "      <th>State</th>\n",
       "      <th>Type</th>\n",
       "      <th>Sc</th>\n",
       "      <th>SIC</th>\n",
       "      <th>NAICS</th>\n",
       "      <th>Vio</th>\n",
       "      <th>Establishment Name</th>\n",
       "      <th>Case Link</th>\n",
       "    </tr>\n",
       "  </thead>\n",
       "  <tbody>\n",
       "    <tr>\n",
       "      <th>5669</th>\n",
       "      <td>41</td>\n",
       "      <td>1413603.015</td>\n",
       "      <td>7/1/19</td>\n",
       "      <td>953210</td>\n",
       "      <td>NV</td>\n",
       "      <td>Referral</td>\n",
       "      <td>Complete</td>\n",
       "      <td>[None]</td>\n",
       "      <td>238120</td>\n",
       "      <td>1</td>\n",
       "      <td>Tekko Enterprises, Inc.</td>\n",
       "      <td>https://www.osha.gov/pls/imis/establishment.in...</td>\n",
       "    </tr>\n",
       "    <tr>\n",
       "      <th>5670</th>\n",
       "      <td>20</td>\n",
       "      <td>1409487.015</td>\n",
       "      <td>6/18/19</td>\n",
       "      <td>830500</td>\n",
       "      <td>CO</td>\n",
       "      <td>Unprog Rel</td>\n",
       "      <td>Partial</td>\n",
       "      <td>[None]</td>\n",
       "      <td>236115</td>\n",
       "      <td>1</td>\n",
       "      <td>Brookfield Residential Colorado</td>\n",
       "      <td>https://www.osha.gov/pls/imis/establishment.in...</td>\n",
       "    </tr>\n",
       "  </tbody>\n",
       "</table>\n",
       "</div>"
      ],
      "text/plain": [
       "       #     Activity   Opened     RID State        Type        Sc     SIC  \\\n",
       "5669  41  1413603.015   7/1/19  953210    NV    Referral  Complete  [None]   \n",
       "5670  20  1409487.015  6/18/19  830500    CO  Unprog Rel   Partial  [None]   \n",
       "\n",
       "       NAICS  Vio               Establishment Name  \\\n",
       "5669  238120    1          Tekko Enterprises, Inc.   \n",
       "5670  236115    1  Brookfield Residential Colorado   \n",
       "\n",
       "                                              Case Link  \n",
       "5669  https://www.osha.gov/pls/imis/establishment.in...  \n",
       "5670  https://www.osha.gov/pls/imis/establishment.in...  "
      ]
     },
     "execution_count": 23,
     "metadata": {},
     "output_type": "execute_result"
    }
   ],
   "source": [
    "print('''What about the last 2 rows?? We'll use the `.tail()` method.''')\n",
    "\n",
    "df.tail(2)"
   ]
  },
  {
   "cell_type": "code",
   "execution_count": 24,
   "metadata": {},
   "outputs": [
    {
     "name": "stdout",
     "output_type": "stream",
     "text": [
      "If we wanted to see our whole table (as much as can be displayed), we would simply input\n",
      "`df`, and it would display\n",
      "\n",
      "\n",
      "\n",
      "Pandas has some great overview methods built into it, lets test them out! We will\n",
      "first check out what our table data types are:\n"
     ]
    },
    {
     "data": {
      "text/plain": [
       "#                       int64\n",
       "Activity              float64\n",
       "Opened                 object\n",
       "RID                     int64\n",
       "State                  object\n",
       "Type                   object\n",
       "Sc                     object\n",
       "SIC                    object\n",
       "NAICS                   int64\n",
       "Vio                     int64\n",
       "Establishment Name     object\n",
       "Case Link              object\n",
       "dtype: object"
      ]
     },
     "execution_count": 24,
     "metadata": {},
     "output_type": "execute_result"
    }
   ],
   "source": [
    "print('''If we wanted to see our whole table (as much as can be displayed), we would simply input\n",
    "`df`, and it would display''')\n",
    "\n",
    "print('''\\n\\n\\nPandas has some great overview methods built into it, lets test them out! We will\n",
    "first check out what our table data types are:''')\n",
    "\n",
    "df.dtypes"
   ]
  },
  {
   "cell_type": "code",
   "execution_count": 28,
   "metadata": {},
   "outputs": [
    {
     "name": "stdout",
     "output_type": "stream",
     "text": [
      "Uh-oh! \n",
      "We have a few issues. We need to change the following feature (column) data types:\n",
      "    - `RID`, `NAICS`, `#`, and `Activity` should all be strings so that they do not behave as \n",
      "    mathematical numbers.\n",
      "\n",
      "\n",
      "\n",
      "To do this, we will use another built in method: `.astype()`, on each of our problem\n",
      "features in the table.\n",
      "\n",
      "\n",
      "\n",
      "Now that we have overwritten the table features with a duplicate, altered type version,\n",
      "let see the reults of `.dtypes` now:\n"
     ]
    },
    {
     "data": {
      "text/plain": [
       "#                     object\n",
       "Activity              object\n",
       "Opened                object\n",
       "RID                   object\n",
       "State                 object\n",
       "Type                  object\n",
       "Sc                    object\n",
       "SIC                   object\n",
       "NAICS                 object\n",
       "Vio                    int64\n",
       "Establishment Name    object\n",
       "Case Link             object\n",
       "dtype: object"
      ]
     },
     "execution_count": 28,
     "metadata": {},
     "output_type": "execute_result"
    }
   ],
   "source": [
    "print('''Uh-oh! \n",
    "We have a few issues. We need to change the following feature (column) data types:\n",
    "    - `RID`, `NAICS`, `#`, and `Activity` should all be strings so that they do not behave as \n",
    "    mathematical numbers.''')\n",
    "\n",
    "print('''\\n\\n\\nTo do this, we will use another built in method: `.astype()`, on each of our problem\n",
    "features in the table.''')\n",
    "\n",
    "df['RID'] = df['RID'].astype(str)\n",
    "df['NAICS'] = df['NAICS'].astype(str)\n",
    "df['#'] = df['#'].astype(str)\n",
    "df['Activity'] = df['Activity'].astype(str)\n",
    "\n",
    "print('''\\n\\n\\nNow that we have overwritten the table features with a duplicate, altered type version,\n",
    "let see the reults of `.dtypes` now:''')\n",
    "\n",
    "df.dtypes"
   ]
  },
  {
   "cell_type": "code",
   "execution_count": 30,
   "metadata": {},
   "outputs": [
    {
     "name": "stdout",
     "output_type": "stream",
     "text": [
      "Perfect! Now lets get a broad mathematical overview of our table using `.describe()`. Since\n",
      "our only remaining mathematical feature is `Vio` (Count of Violations), we should see its distribution\n",
      "against the rest of the table (population):\n"
     ]
    },
    {
     "data": {
      "text/html": [
       "<div>\n",
       "<style scoped>\n",
       "    .dataframe tbody tr th:only-of-type {\n",
       "        vertical-align: middle;\n",
       "    }\n",
       "\n",
       "    .dataframe tbody tr th {\n",
       "        vertical-align: top;\n",
       "    }\n",
       "\n",
       "    .dataframe thead th {\n",
       "        text-align: right;\n",
       "    }\n",
       "</style>\n",
       "<table border=\"1\" class=\"dataframe\">\n",
       "  <thead>\n",
       "    <tr style=\"text-align: right;\">\n",
       "      <th></th>\n",
       "      <th>Vio</th>\n",
       "    </tr>\n",
       "  </thead>\n",
       "  <tbody>\n",
       "    <tr>\n",
       "      <th>count</th>\n",
       "      <td>5671.000000</td>\n",
       "    </tr>\n",
       "    <tr>\n",
       "      <th>mean</th>\n",
       "      <td>2.786281</td>\n",
       "    </tr>\n",
       "    <tr>\n",
       "      <th>std</th>\n",
       "      <td>2.271011</td>\n",
       "    </tr>\n",
       "    <tr>\n",
       "      <th>min</th>\n",
       "      <td>1.000000</td>\n",
       "    </tr>\n",
       "    <tr>\n",
       "      <th>25%</th>\n",
       "      <td>1.000000</td>\n",
       "    </tr>\n",
       "    <tr>\n",
       "      <th>50%</th>\n",
       "      <td>2.000000</td>\n",
       "    </tr>\n",
       "    <tr>\n",
       "      <th>75%</th>\n",
       "      <td>3.000000</td>\n",
       "    </tr>\n",
       "    <tr>\n",
       "      <th>max</th>\n",
       "      <td>16.000000</td>\n",
       "    </tr>\n",
       "  </tbody>\n",
       "</table>\n",
       "</div>"
      ],
      "text/plain": [
       "               Vio\n",
       "count  5671.000000\n",
       "mean      2.786281\n",
       "std       2.271011\n",
       "min       1.000000\n",
       "25%       1.000000\n",
       "50%       2.000000\n",
       "75%       3.000000\n",
       "max      16.000000"
      ]
     },
     "execution_count": 30,
     "metadata": {},
     "output_type": "execute_result"
    }
   ],
   "source": [
    "print('''Perfect! Now lets get a broad mathematical overview of our table using `.describe()`. Since\n",
    "our only remaining mathematical feature is `Vio` (Count of Violations), we should see its distribution\n",
    "against the rest of the table (population):''')\n",
    "\n",
    "df.describe()"
   ]
  },
  {
   "cell_type": "code",
   "execution_count": 35,
   "metadata": {},
   "outputs": [
    {
     "name": "stdout",
     "output_type": "stream",
     "text": [
      "w00t! We got:\n",
      "    - The summation/total/count of all violations\n",
      "    - The mean/average violations per instance (row)\n",
      "    - The standard deviation of violations per instance\n",
      "    - The minima/lowest count of violations per instance\n",
      "    - The quarter, half, and three quarters distribution of all violations\n",
      "    - The maxima/highest count of violations per instance\n",
      "\n",
      "\n",
      "\n",
      "What if we wanted to check the overview stats of our table, but only on instances that have\n",
      "a `State` value of \"CA\"? Much like how we copied out data, and rewrote it as a different data type above,\n",
      "we will make a duplicate table, but only pulling out rows that have \"CA\" as its `State` value with `.loc()`:\n"
     ]
    },
    {
     "data": {
      "text/html": [
       "<div>\n",
       "<style scoped>\n",
       "    .dataframe tbody tr th:only-of-type {\n",
       "        vertical-align: middle;\n",
       "    }\n",
       "\n",
       "    .dataframe tbody tr th {\n",
       "        vertical-align: top;\n",
       "    }\n",
       "\n",
       "    .dataframe thead th {\n",
       "        text-align: right;\n",
       "    }\n",
       "</style>\n",
       "<table border=\"1\" class=\"dataframe\">\n",
       "  <thead>\n",
       "    <tr style=\"text-align: right;\">\n",
       "      <th></th>\n",
       "      <th>#</th>\n",
       "      <th>Activity</th>\n",
       "      <th>Opened</th>\n",
       "      <th>RID</th>\n",
       "      <th>State</th>\n",
       "      <th>Type</th>\n",
       "      <th>Sc</th>\n",
       "      <th>SIC</th>\n",
       "      <th>NAICS</th>\n",
       "      <th>Vio</th>\n",
       "      <th>Establishment Name</th>\n",
       "      <th>Case Link</th>\n",
       "    </tr>\n",
       "  </thead>\n",
       "  <tbody>\n",
       "    <tr>\n",
       "      <th>12</th>\n",
       "      <td>171</td>\n",
       "      <td>1412181.015</td>\n",
       "      <td>6/21/19</td>\n",
       "      <td>950662</td>\n",
       "      <td>CA</td>\n",
       "      <td>Planned</td>\n",
       "      <td>Complete</td>\n",
       "      <td>[None]</td>\n",
       "      <td>321920</td>\n",
       "      <td>15</td>\n",
       "      <td>Ramz Wood Products, Inc.</td>\n",
       "      <td>https://www.osha.gov/pls/imis/establishment.in...</td>\n",
       "    </tr>\n",
       "    <tr>\n",
       "      <th>16</th>\n",
       "      <td>8</td>\n",
       "      <td>1412181.015</td>\n",
       "      <td>6/21/19</td>\n",
       "      <td>950662</td>\n",
       "      <td>CA</td>\n",
       "      <td>Planned</td>\n",
       "      <td>Complete</td>\n",
       "      <td>[None]</td>\n",
       "      <td>321920</td>\n",
       "      <td>15</td>\n",
       "      <td>Ramz Wood Products, Inc.</td>\n",
       "      <td>https://www.osha.gov/pls/imis/establishment.in...</td>\n",
       "    </tr>\n",
       "    <tr>\n",
       "      <th>17</th>\n",
       "      <td>65</td>\n",
       "      <td>1411958.015</td>\n",
       "      <td>6/27/19</td>\n",
       "      <td>950632</td>\n",
       "      <td>CA</td>\n",
       "      <td>Complaint</td>\n",
       "      <td>Partial</td>\n",
       "      <td>[None]</td>\n",
       "      <td>721110</td>\n",
       "      <td>14</td>\n",
       "      <td>El Cajon Management Inc.</td>\n",
       "      <td>https://www.osha.gov/pls/imis/establishment.in...</td>\n",
       "    </tr>\n",
       "  </tbody>\n",
       "</table>\n",
       "</div>"
      ],
      "text/plain": [
       "      #     Activity   Opened     RID State       Type        Sc     SIC  \\\n",
       "12  171  1412181.015  6/21/19  950662    CA    Planned  Complete  [None]   \n",
       "16    8  1412181.015  6/21/19  950662    CA    Planned  Complete  [None]   \n",
       "17   65  1411958.015  6/27/19  950632    CA  Complaint   Partial  [None]   \n",
       "\n",
       "     NAICS  Vio        Establishment Name  \\\n",
       "12  321920   15  Ramz Wood Products, Inc.   \n",
       "16  321920   15  Ramz Wood Products, Inc.   \n",
       "17  721110   14  El Cajon Management Inc.   \n",
       "\n",
       "                                            Case Link  \n",
       "12  https://www.osha.gov/pls/imis/establishment.in...  \n",
       "16  https://www.osha.gov/pls/imis/establishment.in...  \n",
       "17  https://www.osha.gov/pls/imis/establishment.in...  "
      ]
     },
     "execution_count": 35,
     "metadata": {},
     "output_type": "execute_result"
    }
   ],
   "source": [
    "print('''w00t! We got:\n",
    "    - The summation/total/count of all violating employers\n",
    "    - The mean/average violations per instance (row)\n",
    "    - The standard deviation of violations per instance\n",
    "    - The minima/lowest count of violations per instance\n",
    "    - The quarter, half, and three quarters distribution of all violations\n",
    "    - The maxima/highest count of violations per instance''')\n",
    "\n",
    "print('''\\n\\n\\nWhat if we wanted to check the overview stats of our table, but only on instances that have\n",
    "a `State` value of \"CA\"? Much like how we copied out data, and rewrote it as a different data type above,\n",
    "we will make a duplicate table, but only pulling out rows that have \"CA\" as its `State` value with `.loc()`:''')\n",
    "\n",
    "df_CA = df.loc[df['State'] == 'CA']\n",
    "\n",
    "df_CA.head(3)"
   ]
  },
  {
   "cell_type": "code",
   "execution_count": 38,
   "metadata": {},
   "outputs": [
    {
     "name": "stdout",
     "output_type": "stream",
     "text": [
      "Now that we have a second table named `df_CA`, lets see how many rows we eliminated from our first table \n",
      "`df` using `.shape` (The first value is the number of instances, the second value the number of features: So we\n",
      "will \"slice\" out the first value in position \"0\"):\n"
     ]
    },
    {
     "data": {
      "text/plain": [
       "4899"
      ]
     },
     "execution_count": 38,
     "metadata": {},
     "output_type": "execute_result"
    }
   ],
   "source": [
    "print('''Now that we have a second table named `df_CA`, lets see how many rows we eliminated from our first table \n",
    "`df` using `.shape` (The first value is the number of instances, the second value the number of features: So we\n",
    "will \"slice\" out the first value in position \"0\"):''')\n",
    "\n",
    "df.shape[0] - df_CA.shape[0]"
   ]
  },
  {
   "cell_type": "code",
   "execution_count": 39,
   "metadata": {},
   "outputs": [
    {
     "name": "stdout",
     "output_type": "stream",
     "text": [
      "Woah, woah, woah. WAT?\n",
      "Math works as simply as that! We took the number of rows from `df` and subtracted the number of rows from `df_CA`\n",
      "to get our difference - How many rows we removed! Lets check the math, the number of rows in `df` is:\n"
     ]
    },
    {
     "data": {
      "text/plain": [
       "5671"
      ]
     },
     "execution_count": 39,
     "metadata": {},
     "output_type": "execute_result"
    }
   ],
   "source": [
    "print('''Woah, woah, woah. WAT?\n",
    "Math works as simply as that! We took the number of rows from `df` and subtracted the number of rows from `df_CA`\n",
    "to get our difference - How many rows we removed! Lets check the math, the number of rows in `df` is:''')\n",
    "\n",
    "df.shape[0]"
   ]
  },
  {
   "cell_type": "code",
   "execution_count": 40,
   "metadata": {},
   "outputs": [
    {
     "name": "stdout",
     "output_type": "stream",
     "text": [
      "The number of rows in `df_CA` is:\n"
     ]
    },
    {
     "data": {
      "text/plain": [
       "772"
      ]
     },
     "execution_count": 40,
     "metadata": {},
     "output_type": "execute_result"
    }
   ],
   "source": [
    "print('''The number of rows in `df_CA` is:''')\n",
    "\n",
    "df_CA.shape[0]"
   ]
  },
  {
   "cell_type": "code",
   "execution_count": 41,
   "metadata": {},
   "outputs": [
    {
     "name": "stdout",
     "output_type": "stream",
     "text": [
      "So does 5671 less 772 == 4899? Yeeeee!\n",
      "\n",
      "\n",
      "\n",
      "So if we wanted to see the percentage that we pulled, we would just divide the sample by the population:\n"
     ]
    },
    {
     "data": {
      "text/plain": [
       "0.13613119379298183"
      ]
     },
     "execution_count": 41,
     "metadata": {},
     "output_type": "execute_result"
    }
   ],
   "source": [
    "print(f'''So does {df.shape[0]} less {df_CA.shape[0]} == {df.shape[0] - df_CA.shape[0]}? Yeeeee!''')\n",
    "\n",
    "print('''\\n\\n\\nSo if we wanted to see the percentage that we pulled, we would just divide the sample by the population\n",
    "to see an expected value of 13.6%:''')\n",
    "\n",
    "df_CA.shape[0] / df.shape[0]"
   ]
  },
  {
   "cell_type": "code",
   "execution_count": 43,
   "metadata": {},
   "outputs": [
    {
     "name": "stdout",
     "output_type": "stream",
     "text": [
      "Before we get into some visualizations, lets see what the overview of our new table is:\n"
     ]
    },
    {
     "data": {
      "text/html": [
       "<div>\n",
       "<style scoped>\n",
       "    .dataframe tbody tr th:only-of-type {\n",
       "        vertical-align: middle;\n",
       "    }\n",
       "\n",
       "    .dataframe tbody tr th {\n",
       "        vertical-align: top;\n",
       "    }\n",
       "\n",
       "    .dataframe thead th {\n",
       "        text-align: right;\n",
       "    }\n",
       "</style>\n",
       "<table border=\"1\" class=\"dataframe\">\n",
       "  <thead>\n",
       "    <tr style=\"text-align: right;\">\n",
       "      <th></th>\n",
       "      <th>Vio</th>\n",
       "    </tr>\n",
       "  </thead>\n",
       "  <tbody>\n",
       "    <tr>\n",
       "      <th>count</th>\n",
       "      <td>772.000000</td>\n",
       "    </tr>\n",
       "    <tr>\n",
       "      <th>mean</th>\n",
       "      <td>3.143782</td>\n",
       "    </tr>\n",
       "    <tr>\n",
       "      <th>std</th>\n",
       "      <td>2.245919</td>\n",
       "    </tr>\n",
       "    <tr>\n",
       "      <th>min</th>\n",
       "      <td>1.000000</td>\n",
       "    </tr>\n",
       "    <tr>\n",
       "      <th>25%</th>\n",
       "      <td>1.000000</td>\n",
       "    </tr>\n",
       "    <tr>\n",
       "      <th>50%</th>\n",
       "      <td>3.000000</td>\n",
       "    </tr>\n",
       "    <tr>\n",
       "      <th>75%</th>\n",
       "      <td>4.000000</td>\n",
       "    </tr>\n",
       "    <tr>\n",
       "      <th>max</th>\n",
       "      <td>15.000000</td>\n",
       "    </tr>\n",
       "  </tbody>\n",
       "</table>\n",
       "</div>"
      ],
      "text/plain": [
       "              Vio\n",
       "count  772.000000\n",
       "mean     3.143782\n",
       "std      2.245919\n",
       "min      1.000000\n",
       "25%      1.000000\n",
       "50%      3.000000\n",
       "75%      4.000000\n",
       "max     15.000000"
      ]
     },
     "execution_count": 43,
     "metadata": {},
     "output_type": "execute_result"
    }
   ],
   "source": [
    "print('''Before we get into some visualizations, lets see what the overview of our new table is:''')\n",
    "\n",
    "df_CA.describe()"
   ]
  },
  {
   "cell_type": "code",
   "execution_count": 49,
   "metadata": {},
   "outputs": [
    {
     "name": "stdout",
     "output_type": "stream",
     "text": [
      "Hmm... compared to the population average (the `.describe()` we executed on `df`), California employers that\n",
      "violate the OSHA guidelines accrue 1 extra more violation!\n",
      "\n",
      "\n",
      "\n",
      "Enough of the boring stuff, let dive into some visualizations! If you have not already, install \"matplotlib\" with\n",
      "`pip install matplotlib` - it is the best beginner plotting module, then import the modules into our Jupyter here:\n"
     ]
    }
   ],
   "source": [
    "print('''Hmm... compared to the population average (the `.describe()` we executed on `df`), California employers that\n",
    "violate the OSHA guidelines accrue 1 extra more violation!''')\n",
    "\n",
    "print('''\\n\\n\\nEnough of the boring stuff, let dive into some visualizations! If you have not already, install \"matplotlib\" with\n",
    "`pip install matplotlib` - it is the best beginner plotting module, then import the modules into our Jupyter here:''')\n",
    "\n",
    "import matplotlib.pyplot as plt"
   ]
  },
  {
   "cell_type": "code",
   "execution_count": 50,
   "metadata": {},
   "outputs": [
    {
     "name": "stdout",
     "output_type": "stream",
     "text": [
      "Lets start! We will first make a histogram to show us which types of investigations accrue the most\n",
      "violations on our table `df_CA`:\n"
     ]
    },
    {
     "data": {
      "text/plain": [
       "<matplotlib.axes._subplots.AxesSubplot at 0x1a20bfb5c0>"
      ]
     },
     "execution_count": 50,
     "metadata": {},
     "output_type": "execute_result"
    },
    {
     "data": {
      "image/png": "[encoded data removed]",
      "text/plain": [
       "<Figure size 432x288 with 1 Axes>"
      ]
     },
     "metadata": {
      "needs_background": "light"
     },
     "output_type": "display_data"
    }
   ],
   "source": [
    "print('''Lets start! We will first make a histogram to show us which types of investigations accrue the most\n",
    "violations on our table `df_CA`:''')\n",
    "\n",
    "#sns.distplot(df_CA['Vio'], fit=stats.gamma)"
   ]
  },
  {
   "cell_type": "code",
   "execution_count": null,
   "metadata": {},
   "outputs": [],
   "source": []
  }
 ],
 "metadata": {
  "kernelspec": {
   "display_name": "Python 3",
   "language": "python",
   "name": "python3"
  },
  "language_info": {
   "codemirror_mode": {
    "name": "ipython",
    "version": 3
   },
   "file_extension": ".py",
   "mimetype": "text/x-python",
   "name": "python",
   "nbconvert_exporter": "python",
   "pygments_lexer": "ipython3",
   "version": "3.7.1"
  }
 },
 "nbformat": 4,
 "nbformat_minor": 2
}
